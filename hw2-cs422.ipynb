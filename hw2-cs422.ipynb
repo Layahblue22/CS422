{
 "cells": [
  {
   "cell_type": "code",
   "execution_count": 1,
   "id": "6505fe3b",
   "metadata": {
    "_cell_guid": "b1076dfc-b9ad-4769-8c92-a6c4dae69d19",
    "_uuid": "8f2839f25d086af736a60e9eeb907d3b93b6e0e5",
    "execution": {
     "iopub.execute_input": "2022-09-29T05:05:29.648591Z",
     "iopub.status.busy": "2022-09-29T05:05:29.647817Z",
     "iopub.status.idle": "2022-09-29T05:05:29.664124Z",
     "shell.execute_reply": "2022-09-29T05:05:29.663272Z"
    },
    "papermill": {
     "duration": 0.023009,
     "end_time": "2022-09-29T05:05:29.666146",
     "exception": false,
     "start_time": "2022-09-29T05:05:29.643137",
     "status": "completed"
    },
    "tags": []
   },
   "outputs": [
    {
     "name": "stdout",
     "output_type": "stream",
     "text": [
      "/kaggle/input/traffic-violations-in-maryland-county/Traffic_Violations.csv\n"
     ]
    }
   ],
   "source": [
    "# This Python 3 environment comes with many helpful analytics libraries installed\n",
    "# It is defined by the kaggle/python Docker image: https://github.com/kaggle/docker-python\n",
    "# For example, here's several helpful packages to load\n",
    "\n",
    "import numpy as np # linear algebra\n",
    "import pandas as pd # data processing, CSV file I/O (e.g. pd.read_csv)\n",
    "import matplotlib.pyplot as plt\n",
    "\n",
    "# Input data files are available in the read-only \"../input/\" directory\n",
    "# For example, running this (by clicking run or pressing Shift+Enter) will list all files under the input directory\n",
    "\n",
    "import os\n",
    "for dirname, _, filenames in os.walk('/kaggle/input'):\n",
    "    for filename in filenames:\n",
    "        print(os.path.join(dirname, filename))\n",
    "\n",
    "# You can write up to 20GB to the current directory (/kaggle/working/) that gets preserved as output when you create a version using \"Save & Run All\" \n",
    "# You can also write temporary files to /kaggle/temp/, but they won't be saved outside of the current session\n",
    "\n"
   ]
  },
  {
   "cell_type": "markdown",
   "id": "36f227d8",
   "metadata": {
    "papermill": {
     "duration": 0.002261,
     "end_time": "2022-09-29T05:05:29.671477",
     "exception": false,
     "start_time": "2022-09-29T05:05:29.669216",
     "status": "completed"
    },
    "tags": []
   },
   "source": [
    "**"
   ]
  },
  {
   "cell_type": "code",
   "execution_count": 2,
   "id": "fb8e1d8b",
   "metadata": {
    "execution": {
     "iopub.execute_input": "2022-09-29T05:05:29.677450Z",
     "iopub.status.busy": "2022-09-29T05:05:29.677149Z",
     "iopub.status.idle": "2022-09-29T05:05:46.502826Z",
     "shell.execute_reply": "2022-09-29T05:05:46.501833Z"
    },
    "papermill": {
     "duration": 16.831272,
     "end_time": "2022-09-29T05:05:46.505147",
     "exception": false,
     "start_time": "2022-09-29T05:05:29.673875",
     "status": "completed"
    },
    "tags": []
   },
   "outputs": [
    {
     "data": {
      "text/plain": [
       "Date Of Stop                object\n",
       "Time Of Stop                object\n",
       "Agency                      object\n",
       "SubAgency                   object\n",
       "Description                 object\n",
       "Location                    object\n",
       "Latitude                   float64\n",
       "Longitude                  float64\n",
       "Accident                    object\n",
       "Belts                       object\n",
       "Personal Injury             object\n",
       "Property Damage             object\n",
       "Fatal                       object\n",
       "Commercial License          object\n",
       "HAZMAT                      object\n",
       "Commercial Vehicle          object\n",
       "Alcohol                     object\n",
       "Work Zone                   object\n",
       "State                       object\n",
       "VehicleType                 object\n",
       "Year                       float64\n",
       "Make                        object\n",
       "Model                       object\n",
       "Color                       object\n",
       "Violation Type              object\n",
       "Charge                      object\n",
       "Article                     object\n",
       "Contributed To Accident     object\n",
       "Race                        object\n",
       "Gender                      object\n",
       "Driver City                 object\n",
       "Driver State                object\n",
       "DL State                    object\n",
       "Arrest Type                 object\n",
       "Geolocation                 object\n",
       "dtype: object"
      ]
     },
     "execution_count": 2,
     "metadata": {},
     "output_type": "execute_result"
    }
   ],
   "source": [
    "traffic_data = pd.read_csv('../input/traffic-violations-in-maryland-county/Traffic_Violations.csv', low_memory=False)\n",
    "traffic_data.tail(8)\n",
    "traffic_data.isnull()\n",
    "traffic_data.dropna()\n",
    "traffic_data.dtypes\n",
    "\n",
    "\n",
    "\n",
    "\n"
   ]
  },
  {
   "cell_type": "code",
   "execution_count": 3,
   "id": "b2576a2d",
   "metadata": {
    "execution": {
     "iopub.execute_input": "2022-09-29T05:05:46.511914Z",
     "iopub.status.busy": "2022-09-29T05:05:46.511553Z",
     "iopub.status.idle": "2022-09-29T05:05:46.827657Z",
     "shell.execute_reply": "2022-09-29T05:05:46.826764Z"
    },
    "papermill": {
     "duration": 0.322109,
     "end_time": "2022-09-29T05:05:46.829918",
     "exception": false,
     "start_time": "2022-09-29T05:05:46.507809",
     "status": "completed"
    },
    "tags": []
   },
   "outputs": [
    {
     "data": {
      "text/plain": [
       "<AxesSubplot:>"
      ]
     },
     "execution_count": 3,
     "metadata": {},
     "output_type": "execute_result"
    },
    {
     "data": {
      "image/png": "[encoded data removed]",
      "text/plain": [
       "<Figure size 432x288 with 1 Axes>"
      ]
     },
     "metadata": {
      "needs_background": "light"
     },
     "output_type": "display_data"
    }
   ],
   "source": [
    "traffic_data['Model'].value_counts().head(20).plot(kind='barh', colormap='flag')"
   ]
  },
  {
   "cell_type": "code",
   "execution_count": 4,
   "id": "a50abb70",
   "metadata": {
    "execution": {
     "iopub.execute_input": "2022-09-29T05:05:46.837058Z",
     "iopub.status.busy": "2022-09-29T05:05:46.836752Z",
     "iopub.status.idle": "2022-09-29T05:05:47.100867Z",
     "shell.execute_reply": "2022-09-29T05:05:47.100054Z"
    },
    "papermill": {
     "duration": 0.270277,
     "end_time": "2022-09-29T05:05:47.103413",
     "exception": false,
     "start_time": "2022-09-29T05:05:46.833136",
     "status": "completed"
    },
    "tags": []
   },
   "outputs": [
    {
     "data": {
      "text/plain": [
       "<AxesSubplot:>"
      ]
     },
     "execution_count": 4,
     "metadata": {},
     "output_type": "execute_result"
    },
    {
     "data": {
      "image/png": "[encoded data removed]",
      "text/plain": [
       "<Figure size 432x288 with 1 Axes>"
      ]
     },
     "metadata": {
      "needs_background": "light"
     },
     "output_type": "display_data"
    }
   ],
   "source": [
    "traffic_data['Color'].value_counts().head(20).plot(kind='barh', colormap='winter')"
   ]
  },
  {
   "cell_type": "code",
   "execution_count": 5,
   "id": "d8a3295d",
   "metadata": {
    "execution": {
     "iopub.execute_input": "2022-09-29T05:05:47.111671Z",
     "iopub.status.busy": "2022-09-29T05:05:47.110857Z",
     "iopub.status.idle": "2022-09-29T05:05:47.358717Z",
     "shell.execute_reply": "2022-09-29T05:05:47.357722Z"
    },
    "papermill": {
     "duration": 0.2544,
     "end_time": "2022-09-29T05:05:47.361043",
     "exception": false,
     "start_time": "2022-09-29T05:05:47.106643",
     "status": "completed"
    },
    "tags": []
   },
   "outputs": [
    {
     "data": {
      "text/plain": [
       "<AxesSubplot:>"
      ]
     },
     "execution_count": 5,
     "metadata": {},
     "output_type": "execute_result"
    },
    {
     "data": {
      "image/png": "[encoded data removed]",
      "text/plain": [
       "<Figure size 432x288 with 1 Axes>"
      ]
     },
     "metadata": {
      "needs_background": "light"
     },
     "output_type": "display_data"
    }
   ],
   "source": [
    "traffic_data['Year'].value_counts().head(20).plot(kind='barh', colormap='winter')"
   ]
  },
  {
   "cell_type": "code",
   "execution_count": 6,
   "id": "1da2abae",
   "metadata": {
    "execution": {
     "iopub.execute_input": "2022-09-29T05:05:47.369018Z",
     "iopub.status.busy": "2022-09-29T05:05:47.368672Z",
     "iopub.status.idle": "2022-09-29T05:05:47.724177Z",
     "shell.execute_reply": "2022-09-29T05:05:47.723348Z"
    },
    "papermill": {
     "duration": 0.361612,
     "end_time": "2022-09-29T05:05:47.726124",
     "exception": false,
     "start_time": "2022-09-29T05:05:47.364512",
     "status": "completed"
    },
    "tags": []
   },
   "outputs": [
    {
     "data": {
      "text/plain": [
       "<AxesSubplot:ylabel='Frequency'>"
      ]
     },
     "execution_count": 6,
     "metadata": {},
     "output_type": "execute_result"
    },
    {
     "data": {
      "image/png": "[encoded data removed]",
      "text/plain": [
       "<Figure size 432x288 with 1 Axes>"
      ]
     },
     "metadata": {
      "needs_background": "light"
     },
     "output_type": "display_data"
    }
   ],
   "source": [
    "traffic_data[['Color', 'Gender']].value_counts().plot(kind='hist', x='Gender',y='Color' ,colormap='winter')"
   ]
  }
 ],
 "metadata": {
  "kernelspec": {
   "display_name": "Python 3",
   "language": "python",
   "name": "python3"
  },
  "language_info": {
   "codemirror_mode": {
    "name": "ipython",
    "version": 3
   },
   "file_extension": ".py",
   "mimetype": "text/x-python",
   "name": "python",
   "nbconvert_exporter": "python",
   "pygments_lexer": "ipython3",
   "version": "3.7.12"
  },
  "papermill": {
   "default_parameters": {},
   "duration": 27.204413,
   "end_time": "2022-09-29T05:05:48.451731",
   "environment_variables": {},
   "exception": null,
   "input_path": "__notebook__.ipynb",
   "output_path": "__notebook__.ipynb",
   "parameters": {},
   "start_time": "2022-09-29T05:05:21.247318",
   "version": "2.3.4"
  }
 },
 "nbformat": 4,
 "nbformat_minor": 5
}
